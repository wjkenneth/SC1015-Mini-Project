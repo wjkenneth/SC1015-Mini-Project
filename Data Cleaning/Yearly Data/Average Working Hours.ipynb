{
 "cells": [
  {
   "cell_type": "markdown",
   "id": "822ba997",
   "metadata": {},
   "source": [
    "### Import Libraries"
   ]
  },
  {
   "cell_type": "code",
   "execution_count": 1,
   "id": "99810475",
   "metadata": {},
   "outputs": [],
   "source": [
    "# Basic Libraries\n",
    "import numpy as np\n",
    "import pandas as pd\n",
    "import matplotlib.pyplot as plt"
   ]
  },
  {
   "cell_type": "markdown",
   "id": "8d7eba03",
   "metadata": {},
   "source": [
    "### Import Data"
   ]
  },
  {
   "cell_type": "code",
   "execution_count": 2,
   "id": "6e5cffa0",
   "metadata": {},
   "outputs": [],
   "source": [
    "df = pd.read_excel('Raw Data/Average (Mean) Usual Hours Worked Per Week of Employed Residents Aged Fifteen And Over By Nature of Employment (June).xlsx', header = None, dtype=str)"
   ]
  },
  {
   "cell_type": "markdown",
   "id": "f94b775e",
   "metadata": {},
   "source": [
    "### Data Cleaning"
   ]
  },
  {
   "cell_type": "code",
   "execution_count": 3,
   "id": "193c9e94",
   "metadata": {},
   "outputs": [
    {
     "data": {
      "text/html": [
       "<div>\n",
       "<style scoped>\n",
       "    .dataframe tbody tr th:only-of-type {\n",
       "        vertical-align: middle;\n",
       "    }\n",
       "\n",
       "    .dataframe tbody tr th {\n",
       "        vertical-align: top;\n",
       "    }\n",
       "\n",
       "    .dataframe thead th {\n",
       "        text-align: right;\n",
       "    }\n",
       "</style>\n",
       "<table border=\"1\" class=\"dataframe\">\n",
       "  <thead>\n",
       "    <tr style=\"text-align: right;\">\n",
       "      <th></th>\n",
       "      <th>NATURE OF EMPLOYMENT</th>\n",
       "      <th>Total</th>\n",
       "      <th>Full-Time</th>\n",
       "      <th>Part-Time</th>\n",
       "    </tr>\n",
       "  </thead>\n",
       "  <tbody>\n",
       "    <tr>\n",
       "      <th>1</th>\n",
       "      <td>1999</td>\n",
       "      <td>47.5</td>\n",
       "      <td>48.7</td>\n",
       "      <td>25.9</td>\n",
       "    </tr>\n",
       "    <tr>\n",
       "      <th>2</th>\n",
       "      <td>2000</td>\n",
       "      <td>NaN</td>\n",
       "      <td>NaN</td>\n",
       "      <td>NaN</td>\n",
       "    </tr>\n",
       "    <tr>\n",
       "      <th>3</th>\n",
       "      <td>2001</td>\n",
       "      <td>47.5</td>\n",
       "      <td>48.9</td>\n",
       "      <td>22.3</td>\n",
       "    </tr>\n",
       "    <tr>\n",
       "      <th>4</th>\n",
       "      <td>2002</td>\n",
       "      <td>47.4</td>\n",
       "      <td>48.8</td>\n",
       "      <td>22.4</td>\n",
       "    </tr>\n",
       "    <tr>\n",
       "      <th>5</th>\n",
       "      <td>2003</td>\n",
       "      <td>47.4</td>\n",
       "      <td>49</td>\n",
       "      <td>23.7</td>\n",
       "    </tr>\n",
       "  </tbody>\n",
       "</table>\n",
       "</div>"
      ],
      "text/plain": [
       "0 NATURE OF EMPLOYMENT Total Full-Time Part-Time\n",
       "1                 1999  47.5      48.7      25.9\n",
       "2                 2000   NaN       NaN       NaN\n",
       "3                 2001  47.5      48.9      22.3\n",
       "4                 2002  47.4      48.8      22.4\n",
       "5                 2003  47.4        49      23.7"
      ]
     },
     "execution_count": 3,
     "metadata": {},
     "output_type": "execute_result"
    }
   ],
   "source": [
    "# Remove rows with NaN values\n",
    "df = df.dropna()\n",
    "\n",
    "# Transpose the DataFrame\n",
    "df = df.T\n",
    "\n",
    "# Use the first row as the header\n",
    "df.columns = df.iloc[0]\n",
    "\n",
    "# Drop the first row\n",
    "df = df[1:]\n",
    "\n",
    "# Create a boolean mask based on whether the \"Year\" column contains \"2007a\"\n",
    "mask = df['NATURE OF EMPLOYMENT'].str.contains('2007a')\n",
    "\n",
    "# Filter the DataFrame using the boolean mask\n",
    "df = df[~mask]\n",
    "\n",
    "# Replace \"n.a.\" with NaN\n",
    "df = df.replace('n.a.', np.nan)\n",
    "\n",
    "df.head()"
   ]
  },
  {
   "cell_type": "code",
   "execution_count": 4,
   "id": "c180aa9f",
   "metadata": {},
   "outputs": [
    {
     "data": {
      "text/plain": [
       "0\n",
       "NATURE OF EMPLOYMENT    object\n",
       "Total                   object\n",
       "Full-Time               object\n",
       "Part-Time               object\n",
       "dtype: object"
      ]
     },
     "execution_count": 4,
     "metadata": {},
     "output_type": "execute_result"
    }
   ],
   "source": [
    "df.dtypes"
   ]
  },
  {
   "cell_type": "markdown",
   "id": "2d29e0e3",
   "metadata": {},
   "source": [
    "### Extracting Columns"
   ]
  },
  {
   "cell_type": "code",
   "execution_count": 5,
   "id": "2aadb8af",
   "metadata": {},
   "outputs": [
    {
     "data": {
      "text/html": [
       "<div>\n",
       "<style scoped>\n",
       "    .dataframe tbody tr th:only-of-type {\n",
       "        vertical-align: middle;\n",
       "    }\n",
       "\n",
       "    .dataframe tbody tr th {\n",
       "        vertical-align: top;\n",
       "    }\n",
       "\n",
       "    .dataframe thead th {\n",
       "        text-align: right;\n",
       "    }\n",
       "</style>\n",
       "<table border=\"1\" class=\"dataframe\">\n",
       "  <thead>\n",
       "    <tr style=\"text-align: right;\">\n",
       "      <th></th>\n",
       "      <th>Year</th>\n",
       "      <th>Full-Time</th>\n",
       "    </tr>\n",
       "  </thead>\n",
       "  <tbody>\n",
       "    <tr>\n",
       "      <th>1</th>\n",
       "      <td>1999-01-01</td>\n",
       "      <td>48.7</td>\n",
       "    </tr>\n",
       "    <tr>\n",
       "      <th>2</th>\n",
       "      <td>2000-01-01</td>\n",
       "      <td>NaN</td>\n",
       "    </tr>\n",
       "    <tr>\n",
       "      <th>3</th>\n",
       "      <td>2001-01-01</td>\n",
       "      <td>48.9</td>\n",
       "    </tr>\n",
       "    <tr>\n",
       "      <th>4</th>\n",
       "      <td>2002-01-01</td>\n",
       "      <td>48.8</td>\n",
       "    </tr>\n",
       "    <tr>\n",
       "      <th>5</th>\n",
       "      <td>2003-01-01</td>\n",
       "      <td>49.0</td>\n",
       "    </tr>\n",
       "  </tbody>\n",
       "</table>\n",
       "</div>"
      ],
      "text/plain": [
       "0       Year  Full-Time\n",
       "1 1999-01-01       48.7\n",
       "2 2000-01-01        NaN\n",
       "3 2001-01-01       48.9\n",
       "4 2002-01-01       48.8\n",
       "5 2003-01-01       49.0"
      ]
     },
     "execution_count": 5,
     "metadata": {},
     "output_type": "execute_result"
    }
   ],
   "source": [
    "# select columns\n",
    "avg_hrs_worked = df[['NATURE OF EMPLOYMENT', 'Full-Time']]\n",
    "\n",
    "# sort dataframe by year column\n",
    "avg_hrs_worked = avg_hrs_worked.sort_values(by='NATURE OF EMPLOYMENT')\n",
    "\n",
    "# rename column to year\n",
    "avg_hrs_worked = avg_hrs_worked.rename(columns={'NATURE OF EMPLOYMENT': 'Year'})\n",
    "\n",
    "# convert the \"Year\" column to datetime format\n",
    "avg_hrs_worked['Year'] = pd.to_datetime(avg_hrs_worked['Year'], format='%Y')\n",
    "\n",
    "# convert the \"Full-Time\" column to float format\n",
    "avg_hrs_worked['Full-Time'] = avg_hrs_worked['Full-Time'].astype(float)\n",
    "\n",
    "avg_hrs_worked.head()"
   ]
  },
  {
   "cell_type": "code",
   "execution_count": 6,
   "id": "505a4edc",
   "metadata": {},
   "outputs": [
    {
     "data": {
      "text/plain": [
       "0\n",
       "Year         datetime64[ns]\n",
       "Full-Time           float64\n",
       "dtype: object"
      ]
     },
     "execution_count": 6,
     "metadata": {},
     "output_type": "execute_result"
    }
   ],
   "source": [
    "avg_hrs_worked.dtypes"
   ]
  },
  {
   "cell_type": "markdown",
   "id": "0372669e",
   "metadata": {},
   "source": [
    "### Plot Yearly Data"
   ]
  },
  {
   "cell_type": "code",
   "execution_count": 7,
   "id": "dd398d67",
   "metadata": {},
   "outputs": [
    {
     "data": {
      "image/png": "[encoded data removed]",
      "text/plain": [
       "<Figure size 640x480 with 1 Axes>"
      ]
     },
     "metadata": {},
     "output_type": "display_data"
    }
   ],
   "source": [
    "# Plot the data\n",
    "plt.scatter(x='Year', y='Full-Time', data=avg_hrs_worked)\n",
    "\n",
    "# Add labels and title\n",
    "plt.xlabel('Year')\n",
    "plt.ylabel('Full-Time')\n",
    "plt.title('Avg Hours Worked')\n",
    "\n",
    "# Show the plot\n",
    "plt.show()"
   ]
  },
  {
   "cell_type": "code",
   "execution_count": 13,
   "id": "a6f3ee06",
   "metadata": {},
   "outputs": [],
   "source": [
    "df = avg_hrs_worked.rename(columns={'NATURE OF EMPLOYMENT': 'Year', 'Full-Time': 'Average Full-Time Working Hours Per Week'})"
   ]
  },
  {
   "cell_type": "code",
   "execution_count": 14,
   "id": "733a3262",
   "metadata": {},
   "outputs": [],
   "source": [
    "# Export monthtly data to CSV\n",
    "df.to_csv('Cleaned Data/Average Working Hours.csv')"
   ]
  },
  {
   "cell_type": "code",
   "execution_count": null,
   "id": "cf554b92",
   "metadata": {},
   "outputs": [],
   "source": []
  }
 ],
 "metadata": {
  "kernelspec": {
   "display_name": "Python 3 (ipykernel)",
   "language": "python",
   "name": "python3"
  },
  "language_info": {
   "codemirror_mode": {
    "name": "ipython",
    "version": 3
   },
   "file_extension": ".py",
   "mimetype": "text/x-python",
   "name": "python",
   "nbconvert_exporter": "python",
   "pygments_lexer": "ipython3",
   "version": "3.9.13"
  },
  "vscode": {
   "interpreter": {
    "hash": "8a5edab282632443219e051e4ade2d1d5bbc671c781051bf1437897cbdfea0f1"
   }
  }
 },
 "nbformat": 4,
 "nbformat_minor": 5
}

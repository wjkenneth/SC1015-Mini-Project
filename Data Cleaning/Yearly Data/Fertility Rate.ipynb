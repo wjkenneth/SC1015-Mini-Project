{
 "cells": [
  {
   "cell_type": "markdown",
   "id": "cbdefc64",
   "metadata": {},
   "source": [
    "### Import Libraries"
   ]
  },
  {
   "cell_type": "code",
   "execution_count": 1,
   "id": "91784f51",
   "metadata": {},
   "outputs": [],
   "source": [
    "# Basic Libraries\n",
    "import numpy as np\n",
    "import pandas as pd\n",
    "import matplotlib.pyplot as plt"
   ]
  },
  {
   "cell_type": "markdown",
   "id": "ac960662",
   "metadata": {},
   "source": [
    "### Import Data"
   ]
  },
  {
   "cell_type": "code",
   "execution_count": 2,
   "id": "07848eab",
   "metadata": {},
   "outputs": [],
   "source": [
    "df = pd.read_excel('Raw Data/Births And Fertility Rates, Annual.xlsx', header = None, dtype=str)"
   ]
  },
  {
   "cell_type": "markdown",
   "id": "eeb98af2",
   "metadata": {},
   "source": [
    "### Data Cleaning"
   ]
  },
  {
   "cell_type": "code",
   "execution_count": 3,
   "id": "753b41fc",
   "metadata": {},
   "outputs": [
    {
     "data": {
      "text/html": [
       "<div>\n",
       "<style scoped>\n",
       "    .dataframe tbody tr th:only-of-type {\n",
       "        vertical-align: middle;\n",
       "    }\n",
       "\n",
       "    .dataframe tbody tr th {\n",
       "        vertical-align: top;\n",
       "    }\n",
       "\n",
       "    .dataframe thead th {\n",
       "        text-align: right;\n",
       "    }\n",
       "</style>\n",
       "<table border=\"1\" class=\"dataframe\">\n",
       "  <thead>\n",
       "    <tr style=\"text-align: right;\">\n",
       "      <th></th>\n",
       "      <th>Data Series</th>\n",
       "      <th>Total Fertility Rate (Per Female)</th>\n",
       "      <th>15 - 19 Years (Per Thousand Females)</th>\n",
       "      <th>20 - 24 Years (Per Thousand Females)</th>\n",
       "      <th>25 - 29 Years (Per Thousand Females)</th>\n",
       "      <th>30 - 34 Years (Per Thousand Females)</th>\n",
       "      <th>35 - 39 Years (Per Thousand Females)</th>\n",
       "      <th>40 - 44 Years (Per Thousand Females)</th>\n",
       "      <th>45 - 49 Years (Per Thousand Females)</th>\n",
       "      <th>Chinese (Per Female)</th>\n",
       "      <th>Malays (Per Female)</th>\n",
       "      <th>Indians (Per Female)</th>\n",
       "      <th>Gross Reproduction Rate (Per Female)</th>\n",
       "      <th>Net Reproduction Rate (Per Female)</th>\n",
       "      <th>Crude Birth Rate (Per Thousand Residents)</th>\n",
       "      <th>Total Live-Births (Number)</th>\n",
       "      <th>Resident Live-Births (Number)</th>\n",
       "    </tr>\n",
       "  </thead>\n",
       "  <tbody>\n",
       "    <tr>\n",
       "      <th>1</th>\n",
       "      <td>2022</td>\n",
       "      <td>1.05</td>\n",
       "      <td>2.1</td>\n",
       "      <td>11.3</td>\n",
       "      <td>49.1</td>\n",
       "      <td>87.1</td>\n",
       "      <td>49.5</td>\n",
       "      <td>9.8</td>\n",
       "      <td>0.4</td>\n",
       "      <td>0.87</td>\n",
       "      <td>1.83</td>\n",
       "      <td>1.01</td>\n",
       "      <td>na</td>\n",
       "      <td>na</td>\n",
       "      <td>8</td>\n",
       "      <td>35724</td>\n",
       "      <td>32417</td>\n",
       "    </tr>\n",
       "    <tr>\n",
       "      <th>2</th>\n",
       "      <td>2021</td>\n",
       "      <td>1.12</td>\n",
       "      <td>2.2</td>\n",
       "      <td>11.7</td>\n",
       "      <td>53.4</td>\n",
       "      <td>92.9</td>\n",
       "      <td>53.6</td>\n",
       "      <td>10.2</td>\n",
       "      <td>0.3</td>\n",
       "      <td>0.96</td>\n",
       "      <td>1.82</td>\n",
       "      <td>1.05</td>\n",
       "      <td>0.54</td>\n",
       "      <td>0.54</td>\n",
       "      <td>8.6</td>\n",
       "      <td>38672</td>\n",
       "      <td>34183</td>\n",
       "    </tr>\n",
       "    <tr>\n",
       "      <th>3</th>\n",
       "      <td>2020</td>\n",
       "      <td>1.1</td>\n",
       "      <td>2.3</td>\n",
       "      <td>12.7</td>\n",
       "      <td>54.6</td>\n",
       "      <td>90.8</td>\n",
       "      <td>49</td>\n",
       "      <td>9.5</td>\n",
       "      <td>0.5</td>\n",
       "      <td>0.94</td>\n",
       "      <td>1.82</td>\n",
       "      <td>0.96</td>\n",
       "      <td>0.53</td>\n",
       "      <td>0.53</td>\n",
       "      <td>8.5</td>\n",
       "      <td>38590</td>\n",
       "      <td>34233</td>\n",
       "    </tr>\n",
       "    <tr>\n",
       "      <th>4</th>\n",
       "      <td>2019</td>\n",
       "      <td>1.14</td>\n",
       "      <td>2.5</td>\n",
       "      <td>12.7</td>\n",
       "      <td>59.4</td>\n",
       "      <td>92.4</td>\n",
       "      <td>50.1</td>\n",
       "      <td>9.9</td>\n",
       "      <td>0.4</td>\n",
       "      <td>0.99</td>\n",
       "      <td>1.8</td>\n",
       "      <td>0.98</td>\n",
       "      <td>0.56</td>\n",
       "      <td>0.56</td>\n",
       "      <td>8.8</td>\n",
       "      <td>39279</td>\n",
       "      <td>35330</td>\n",
       "    </tr>\n",
       "    <tr>\n",
       "      <th>5</th>\n",
       "      <td>2018</td>\n",
       "      <td>1.14</td>\n",
       "      <td>2.5</td>\n",
       "      <td>14.4</td>\n",
       "      <td>60.6</td>\n",
       "      <td>92.9</td>\n",
       "      <td>48.4</td>\n",
       "      <td>8.8</td>\n",
       "      <td>0.5</td>\n",
       "      <td>0.98</td>\n",
       "      <td>1.85</td>\n",
       "      <td>1</td>\n",
       "      <td>0.56</td>\n",
       "      <td>0.55</td>\n",
       "      <td>8.8</td>\n",
       "      <td>39039</td>\n",
       "      <td>35040</td>\n",
       "    </tr>\n",
       "  </tbody>\n",
       "</table>\n",
       "</div>"
      ],
      "text/plain": [
       "0 Data Series Total Fertility Rate (Per Female)  \\\n",
       "1       2022                               1.05   \n",
       "2       2021                               1.12   \n",
       "3       2020                                1.1   \n",
       "4       2019                               1.14   \n",
       "5       2018                               1.14   \n",
       "\n",
       "0   15 - 19 Years (Per Thousand Females)  \\\n",
       "1                                    2.1   \n",
       "2                                    2.2   \n",
       "3                                    2.3   \n",
       "4                                    2.5   \n",
       "5                                    2.5   \n",
       "\n",
       "0   20 - 24 Years (Per Thousand Females)  \\\n",
       "1                                   11.3   \n",
       "2                                   11.7   \n",
       "3                                   12.7   \n",
       "4                                   12.7   \n",
       "5                                   14.4   \n",
       "\n",
       "0   25 - 29 Years (Per Thousand Females)  \\\n",
       "1                                   49.1   \n",
       "2                                   53.4   \n",
       "3                                   54.6   \n",
       "4                                   59.4   \n",
       "5                                   60.6   \n",
       "\n",
       "0   30 - 34 Years (Per Thousand Females)  \\\n",
       "1                                   87.1   \n",
       "2                                   92.9   \n",
       "3                                   90.8   \n",
       "4                                   92.4   \n",
       "5                                   92.9   \n",
       "\n",
       "0   35 - 39 Years (Per Thousand Females)  \\\n",
       "1                                   49.5   \n",
       "2                                   53.6   \n",
       "3                                     49   \n",
       "4                                   50.1   \n",
       "5                                   48.4   \n",
       "\n",
       "0   40 - 44 Years (Per Thousand Females)  \\\n",
       "1                                    9.8   \n",
       "2                                   10.2   \n",
       "3                                    9.5   \n",
       "4                                    9.9   \n",
       "5                                    8.8   \n",
       "\n",
       "0   45 - 49 Years (Per Thousand Females)   Chinese (Per Female)  \\\n",
       "1                                    0.4                   0.87   \n",
       "2                                    0.3                   0.96   \n",
       "3                                    0.5                   0.94   \n",
       "4                                    0.4                   0.99   \n",
       "5                                    0.5                   0.98   \n",
       "\n",
       "0   Malays (Per Female)   Indians (Per Female)  \\\n",
       "1                  1.83                   1.01   \n",
       "2                  1.82                   1.05   \n",
       "3                  1.82                   0.96   \n",
       "4                   1.8                   0.98   \n",
       "5                  1.85                      1   \n",
       "\n",
       "0 Gross Reproduction Rate (Per Female) Net Reproduction Rate (Per Female)  \\\n",
       "1                                   na                                 na   \n",
       "2                                 0.54                               0.54   \n",
       "3                                 0.53                               0.53   \n",
       "4                                 0.56                               0.56   \n",
       "5                                 0.56                               0.55   \n",
       "\n",
       "0 Crude Birth Rate (Per Thousand Residents) Total Live-Births (Number)  \\\n",
       "1                                         8                      35724   \n",
       "2                                       8.6                      38672   \n",
       "3                                       8.5                      38590   \n",
       "4                                       8.8                      39279   \n",
       "5                                       8.8                      39039   \n",
       "\n",
       "0 Resident Live-Births (Number)  \n",
       "1                         32417  \n",
       "2                         34183  \n",
       "3                         34233  \n",
       "4                         35330  \n",
       "5                         35040  "
      ]
     },
     "execution_count": 3,
     "metadata": {},
     "output_type": "execute_result"
    }
   ],
   "source": [
    "# Remove rows with NaN values\n",
    "df = df.dropna()\n",
    "\n",
    "# Transpose the DataFrame\n",
    "df = df.T\n",
    "\n",
    "# Use the first row as the header\n",
    "df.columns = df.iloc[0]\n",
    "\n",
    "# Drop the first row\n",
    "df = df[1:]\n",
    "\n",
    "df.head()"
   ]
  },
  {
   "cell_type": "code",
   "execution_count": 4,
   "id": "cd6e710b",
   "metadata": {},
   "outputs": [
    {
     "data": {
      "text/plain": [
       "0\n",
       "Data Series                                  object\n",
       "Total Fertility Rate (Per Female)            object\n",
       "  15 - 19 Years (Per Thousand Females)       object\n",
       "  20 - 24 Years (Per Thousand Females)       object\n",
       "  25 - 29 Years (Per Thousand Females)       object\n",
       "  30 - 34 Years (Per Thousand Females)       object\n",
       "  35 - 39 Years (Per Thousand Females)       object\n",
       "  40 - 44 Years (Per Thousand Females)       object\n",
       "  45 - 49 Years (Per Thousand Females)       object\n",
       "  Chinese (Per Female)                       object\n",
       "  Malays (Per Female)                        object\n",
       "  Indians (Per Female)                       object\n",
       "Gross Reproduction Rate (Per Female)         object\n",
       "Net Reproduction Rate (Per Female)           object\n",
       "Crude Birth Rate (Per Thousand Residents)    object\n",
       "Total Live-Births (Number)                   object\n",
       "Resident Live-Births (Number)                object\n",
       "dtype: object"
      ]
     },
     "execution_count": 4,
     "metadata": {},
     "output_type": "execute_result"
    }
   ],
   "source": [
    "df.dtypes"
   ]
  },
  {
   "cell_type": "markdown",
   "id": "d82c6b83",
   "metadata": {},
   "source": [
    "### Extracting Columns"
   ]
  },
  {
   "cell_type": "code",
   "execution_count": 5,
   "id": "ccb7467f",
   "metadata": {},
   "outputs": [
    {
     "data": {
      "text/html": [
       "<div>\n",
       "<style scoped>\n",
       "    .dataframe tbody tr th:only-of-type {\n",
       "        vertical-align: middle;\n",
       "    }\n",
       "\n",
       "    .dataframe tbody tr th {\n",
       "        vertical-align: top;\n",
       "    }\n",
       "\n",
       "    .dataframe thead th {\n",
       "        text-align: right;\n",
       "    }\n",
       "</style>\n",
       "<table border=\"1\" class=\"dataframe\">\n",
       "  <thead>\n",
       "    <tr style=\"text-align: right;\">\n",
       "      <th></th>\n",
       "      <th>Year</th>\n",
       "      <th>Fertility Rate</th>\n",
       "    </tr>\n",
       "  </thead>\n",
       "  <tbody>\n",
       "    <tr>\n",
       "      <th>63</th>\n",
       "      <td>1960-01-01</td>\n",
       "      <td>5.76</td>\n",
       "    </tr>\n",
       "    <tr>\n",
       "      <th>62</th>\n",
       "      <td>1961-01-01</td>\n",
       "      <td>5.41</td>\n",
       "    </tr>\n",
       "    <tr>\n",
       "      <th>61</th>\n",
       "      <td>1962-01-01</td>\n",
       "      <td>5.21</td>\n",
       "    </tr>\n",
       "    <tr>\n",
       "      <th>60</th>\n",
       "      <td>1963-01-01</td>\n",
       "      <td>5.16</td>\n",
       "    </tr>\n",
       "    <tr>\n",
       "      <th>59</th>\n",
       "      <td>1964-01-01</td>\n",
       "      <td>4.97</td>\n",
       "    </tr>\n",
       "  </tbody>\n",
       "</table>\n",
       "</div>"
      ],
      "text/plain": [
       "0        Year  Fertility Rate\n",
       "63 1960-01-01            5.76\n",
       "62 1961-01-01            5.41\n",
       "61 1962-01-01            5.21\n",
       "60 1963-01-01            5.16\n",
       "59 1964-01-01            4.97"
      ]
     },
     "execution_count": 5,
     "metadata": {},
     "output_type": "execute_result"
    }
   ],
   "source": [
    "# select columns\n",
    "fertility_rate = df[['Data Series', 'Total Fertility Rate (Per Female)']]\n",
    "\n",
    "# sort dataframe by year column\n",
    "fertility_rate = fertility_rate.sort_values(by='Data Series')\n",
    "\n",
    "# rename column to year\n",
    "fertility_rate = fertility_rate.rename(columns={'Data Series': 'Year', 'Total Fertility Rate (Per Female)': 'Fertility Rate'})\n",
    "\n",
    "# strip blank space\n",
    "fertility_rate['Year'] = fertility_rate['Year'].str.strip()\n",
    "\n",
    "# convert the \"Year\" column to datetime format\n",
    "fertility_rate['Year'] = pd.to_datetime(fertility_rate['Year'], format='%Y')\n",
    "\n",
    "# convert the \"Fertility Rate column to float format\n",
    "fertility_rate['Fertility Rate'] = fertility_rate['Fertility Rate'].astype(float)\n",
    "\n",
    "fertility_rate.head()"
   ]
  },
  {
   "cell_type": "code",
   "execution_count": 6,
   "id": "0ccee9ad",
   "metadata": {},
   "outputs": [
    {
     "data": {
      "text/plain": [
       "0\n",
       "Year              datetime64[ns]\n",
       "Fertility Rate           float64\n",
       "dtype: object"
      ]
     },
     "execution_count": 6,
     "metadata": {},
     "output_type": "execute_result"
    }
   ],
   "source": [
    "fertility_rate.dtypes"
   ]
  },
  {
   "cell_type": "markdown",
   "id": "e847285d",
   "metadata": {},
   "source": [
    "### Plot Yearly Data"
   ]
  },
  {
   "cell_type": "code",
   "execution_count": 7,
   "id": "09607285",
   "metadata": {},
   "outputs": [
    {
     "data": {
      "image/png": "[encoded data removed]",
      "text/plain": [
       "<Figure size 1000x600 with 1 Axes>"
      ]
     },
     "metadata": {},
     "output_type": "display_data"
    }
   ],
   "source": [
    "# Plot the data\n",
    "fertility_rate.plot(x='Year', y='Fertility Rate', figsize=(10, 6))\n",
    "\n",
    "# Add labels and title\n",
    "plt.xlabel('Year')\n",
    "plt.ylabel('Fertility Rate')\n",
    "plt.title('Fertility Rate')\n",
    "\n",
    "# Show the plot\n",
    "plt.show()"
   ]
  },
  {
   "cell_type": "markdown",
   "id": "2d42aee8",
   "metadata": {},
   "source": [
    "### Exporting Data"
   ]
  },
  {
   "cell_type": "code",
   "execution_count": 13,
   "id": "94103765",
   "metadata": {},
   "outputs": [],
   "source": [
    "# Export yearly data to CSV\n",
    "fertility_rate.to_csv('Cleaned Data/Fertility Rate.csv')"
   ]
  },
  {
   "cell_type": "code",
   "execution_count": null,
   "id": "04052f69",
   "metadata": {},
   "outputs": [],
   "source": []
  }
 ],
 "metadata": {
  "kernelspec": {
   "display_name": "Python 3 (ipykernel)",
   "language": "python",
   "name": "python3"
  },
  "language_info": {
   "codemirror_mode": {
    "name": "ipython",
    "version": 3
   },
   "file_extension": ".py",
   "mimetype": "text/x-python",
   "name": "python",
   "nbconvert_exporter": "python",
   "pygments_lexer": "ipython3",
   "version": "3.9.13"
  },
  "vscode": {
   "interpreter": {
    "hash": "0ee9f96fc45383790e944a51491cf37b1d127a6450f1ce25dac060f30d0fb4d1"
   }
  }
 },
 "nbformat": 4,
 "nbformat_minor": 5
}

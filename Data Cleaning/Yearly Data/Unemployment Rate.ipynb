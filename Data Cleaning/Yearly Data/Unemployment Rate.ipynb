{
 "cells": [
  {
   "cell_type": "markdown",
   "id": "5ebfe35a",
   "metadata": {},
   "source": [
    "### Import Libraries"
   ]
  },
  {
   "cell_type": "code",
   "execution_count": 1,
   "id": "c2fd321a",
   "metadata": {},
   "outputs": [],
   "source": [
    "# Basic Libraries\n",
    "import numpy as np\n",
    "import pandas as pd\n",
    "import matplotlib.pyplot as plt"
   ]
  },
  {
   "cell_type": "markdown",
   "id": "9448a3bf",
   "metadata": {},
   "source": [
    "### Import Data"
   ]
  },
  {
   "cell_type": "code",
   "execution_count": 2,
   "id": "d7f84140",
   "metadata": {},
   "outputs": [],
   "source": [
    "df = pd.read_excel('Raw Data/Unemployment Rate Aged 15 Years And Over, End June, Annual, Seasonally Adjusted.xlsx', header = None, dtype=str)"
   ]
  },
  {
   "cell_type": "markdown",
   "id": "cc5e2fe5",
   "metadata": {},
   "source": [
    "### Data Cleaning"
   ]
  },
  {
   "cell_type": "code",
   "execution_count": 3,
   "id": "46c9e952",
   "metadata": {},
   "outputs": [
    {
     "data": {
      "text/html": [
       "<div>\n",
       "<style scoped>\n",
       "    .dataframe tbody tr th:only-of-type {\n",
       "        vertical-align: middle;\n",
       "    }\n",
       "\n",
       "    .dataframe tbody tr th {\n",
       "        vertical-align: top;\n",
       "    }\n",
       "\n",
       "    .dataframe thead th {\n",
       "        text-align: right;\n",
       "    }\n",
       "</style>\n",
       "<table border=\"1\" class=\"dataframe\">\n",
       "  <thead>\n",
       "    <tr style=\"text-align: right;\">\n",
       "      <th></th>\n",
       "      <th>Data Series</th>\n",
       "      <th>Total Unemployment Rate, (SA)</th>\n",
       "      <th>Resident Unemployment Rate, (SA)</th>\n",
       "    </tr>\n",
       "  </thead>\n",
       "  <tbody>\n",
       "    <tr>\n",
       "      <th>1</th>\n",
       "      <td>2022</td>\n",
       "      <td>2.1</td>\n",
       "      <td>2.8</td>\n",
       "    </tr>\n",
       "    <tr>\n",
       "      <th>2</th>\n",
       "      <td>2021</td>\n",
       "      <td>2.7</td>\n",
       "      <td>3.6</td>\n",
       "    </tr>\n",
       "    <tr>\n",
       "      <th>3</th>\n",
       "      <td>2020</td>\n",
       "      <td>2.9</td>\n",
       "      <td>4</td>\n",
       "    </tr>\n",
       "    <tr>\n",
       "      <th>4</th>\n",
       "      <td>2019</td>\n",
       "      <td>2.3</td>\n",
       "      <td>3.2</td>\n",
       "    </tr>\n",
       "    <tr>\n",
       "      <th>5</th>\n",
       "      <td>2018</td>\n",
       "      <td>2.1</td>\n",
       "      <td>2.9</td>\n",
       "    </tr>\n",
       "  </tbody>\n",
       "</table>\n",
       "</div>"
      ],
      "text/plain": [
       "0 Data Series Total Unemployment Rate, (SA) Resident Unemployment Rate, (SA)\n",
       "1       2022                            2.1                              2.8\n",
       "2       2021                            2.7                              3.6\n",
       "3       2020                            2.9                                4\n",
       "4       2019                            2.3                              3.2\n",
       "5       2018                            2.1                              2.9"
      ]
     },
     "execution_count": 3,
     "metadata": {},
     "output_type": "execute_result"
    }
   ],
   "source": [
    "# Remove rows with NaN values\n",
    "df = df.dropna()\n",
    "\n",
    "# Transpose the DataFrame\n",
    "df = df.T\n",
    "\n",
    "# Use the first row as the header\n",
    "df.columns = df.iloc[0]\n",
    "\n",
    "# Drop the first row\n",
    "df = df[1:]\n",
    "\n",
    "df.head()"
   ]
  },
  {
   "cell_type": "code",
   "execution_count": 4,
   "id": "ed7f3675",
   "metadata": {},
   "outputs": [
    {
     "data": {
      "text/plain": [
       "0\n",
       "Data Series                         object\n",
       "Total Unemployment Rate, (SA)       object\n",
       "Resident Unemployment Rate, (SA)    object\n",
       "dtype: object"
      ]
     },
     "execution_count": 4,
     "metadata": {},
     "output_type": "execute_result"
    }
   ],
   "source": [
    "df.dtypes"
   ]
  },
  {
   "cell_type": "markdown",
   "id": "66b88652",
   "metadata": {},
   "source": [
    "### Extracting Columns"
   ]
  },
  {
   "cell_type": "code",
   "execution_count": 5,
   "id": "f87604c2",
   "metadata": {},
   "outputs": [
    {
     "data": {
      "text/html": [
       "<div>\n",
       "<style scoped>\n",
       "    .dataframe tbody tr th:only-of-type {\n",
       "        vertical-align: middle;\n",
       "    }\n",
       "\n",
       "    .dataframe tbody tr th {\n",
       "        vertical-align: top;\n",
       "    }\n",
       "\n",
       "    .dataframe thead th {\n",
       "        text-align: right;\n",
       "    }\n",
       "</style>\n",
       "<table border=\"1\" class=\"dataframe\">\n",
       "  <thead>\n",
       "    <tr style=\"text-align: right;\">\n",
       "      <th></th>\n",
       "      <th>Year</th>\n",
       "      <th>Unemployment Rate</th>\n",
       "    </tr>\n",
       "  </thead>\n",
       "  <tbody>\n",
       "    <tr>\n",
       "      <th>31</th>\n",
       "      <td>1992-01-01</td>\n",
       "      <td>2.1</td>\n",
       "    </tr>\n",
       "    <tr>\n",
       "      <th>30</th>\n",
       "      <td>1993-01-01</td>\n",
       "      <td>2.1</td>\n",
       "    </tr>\n",
       "    <tr>\n",
       "      <th>29</th>\n",
       "      <td>1994-01-01</td>\n",
       "      <td>2.0</td>\n",
       "    </tr>\n",
       "    <tr>\n",
       "      <th>28</th>\n",
       "      <td>1995-01-01</td>\n",
       "      <td>2.3</td>\n",
       "    </tr>\n",
       "    <tr>\n",
       "      <th>27</th>\n",
       "      <td>1996-01-01</td>\n",
       "      <td>2.2</td>\n",
       "    </tr>\n",
       "  </tbody>\n",
       "</table>\n",
       "</div>"
      ],
      "text/plain": [
       "0        Year  Unemployment Rate\n",
       "31 1992-01-01                2.1\n",
       "30 1993-01-01                2.1\n",
       "29 1994-01-01                2.0\n",
       "28 1995-01-01                2.3\n",
       "27 1996-01-01                2.2"
      ]
     },
     "execution_count": 5,
     "metadata": {},
     "output_type": "execute_result"
    }
   ],
   "source": [
    "# select columns\n",
    "unemployment_rate = df[['Data Series', 'Resident Unemployment Rate, (SA)']]\n",
    "\n",
    "# sort dataframe by year column\n",
    "unemployment_rate = unemployment_rate.sort_values(by='Data Series')\n",
    "\n",
    "# rename columns\n",
    "unemployment_rate = unemployment_rate.rename(columns={'Data Series': 'Year', 'Resident Unemployment Rate, (SA)': 'Unemployment Rate'})\n",
    "\n",
    "# strip spaces\n",
    "unemployment_rate['Year'] = unemployment_rate['Year'].str.strip()\n",
    "unemployment_rate['Unemployment Rate'] = unemployment_rate['Unemployment Rate'].str.strip()\n",
    "\n",
    "# convert the \"Year\" column to datetime format\n",
    "unemployment_rate['Year'] = pd.to_datetime(unemployment_rate['Year'], format='%Y')\n",
    "\n",
    "# convert the \"Full-Time\" column to float format\n",
    "unemployment_rate['Unemployment Rate'] = unemployment_rate['Unemployment Rate'].astype(float)\n",
    "\n",
    "unemployment_rate.head()"
   ]
  },
  {
   "cell_type": "code",
   "execution_count": 6,
   "id": "8c283f0c",
   "metadata": {},
   "outputs": [
    {
     "data": {
      "text/plain": [
       "0\n",
       "Year                 datetime64[ns]\n",
       "Unemployment Rate           float64\n",
       "dtype: object"
      ]
     },
     "execution_count": 6,
     "metadata": {},
     "output_type": "execute_result"
    }
   ],
   "source": [
    "unemployment_rate.dtypes"
   ]
  },
  {
   "cell_type": "markdown",
   "id": "db4af8d9",
   "metadata": {},
   "source": [
    "### Plot Yearly Data"
   ]
  },
  {
   "cell_type": "code",
   "execution_count": 7,
   "id": "40c05089",
   "metadata": {},
   "outputs": [
    {
     "data": {
      "image/png": "[encoded data removed]",
      "text/plain": [
       "<Figure size 640x480 with 1 Axes>"
      ]
     },
     "metadata": {},
     "output_type": "display_data"
    }
   ],
   "source": [
    "# Plot the data\n",
    "plt.scatter(x='Year', y='Unemployment Rate', data=unemployment_rate)\n",
    "\n",
    "# Add labels and title\n",
    "plt.xlabel('Year')\n",
    "plt.ylabel('Unemployment Rate')\n",
    "plt.title('Unemployment Rate')\n",
    "\n",
    "# Show the plot\n",
    "plt.show()"
   ]
  },
  {
   "cell_type": "code",
   "execution_count": 13,
   "id": "470b351f",
   "metadata": {},
   "outputs": [],
   "source": [
    "# Export yearly data to CSV\n",
    "unemployment_rate.to_csv('Cleaned Data/Unemployment Rate.csv')"
   ]
  }
 ],
 "metadata": {
  "kernelspec": {
   "display_name": "Python 3 (ipykernel)",
   "language": "python",
   "name": "python3"
  },
  "language_info": {
   "codemirror_mode": {
    "name": "ipython",
    "version": 3
   },
   "file_extension": ".py",
   "mimetype": "text/x-python",
   "name": "python",
   "nbconvert_exporter": "python",
   "pygments_lexer": "ipython3",
   "version": "3.9.13"
  },
  "vscode": {
   "interpreter": {
    "hash": "8a5edab282632443219e051e4ade2d1d5bbc671c781051bf1437897cbdfea0f1"
   }
  }
 },
 "nbformat": 4,
 "nbformat_minor": 5
}
